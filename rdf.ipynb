{
 "cells": [
  {
   "cell_type": "code",
   "execution_count": null,
   "metadata": {},
   "outputs": [],
   "source": [
    "# This example needs additional packages:\n",
    "# !pip install matplotlib umap-learn\n",
    "\n",
    "# for development:\n",
    "# !pip install -e \".[dev]\""
   ]
  },
  {
   "cell_type": "code",
   "execution_count": null,
   "metadata": {},
   "outputs": [],
   "source": [
    "# %load_ext autoreload\n",
    "# %autoreload 2\n",
    "# %env ANYWIDGET_HMR=1\n",
    "from glob import glob\n",
    "\n",
    "import matplotlib.pyplot as plt\n",
    "from matplotlib.animation import FuncAnimation\n",
    "\n",
    "%matplotlib inline\n",
    "\n",
    "import numpy as np\n",
    "import pandas as pd\n",
    "from umap import UMAP\n",
    "\n",
    "from dimbridge import Dimbridge\n",
    "\n",
    "plt.style.use(\"ggplot\")\n",
    "plt.style.use(\"seaborn-v0_8-colorblind\")\n",
    "plt.rcParams[\"animation.embed_limit\"] = 200\n",
    "plt.rcParams[\"animation.html\"] = \"jshtml\""
   ]
  },
  {
   "cell_type": "code",
   "execution_count": null,
   "metadata": {},
   "outputs": [],
   "source": [
    "df = pd.read_csv(\"datasets/radial-distribution-function/2-6_pdfs.csv\")\n",
    "data = df.to_numpy().T[1:]\n",
    "df = pd.DataFrame(data)\n",
    "df.shape"
   ]
  },
  {
   "cell_type": "code",
   "execution_count": null,
   "metadata": {},
   "outputs": [],
   "source": [
    "plt.plot(df[::1].T, linewidth=0.5);"
   ]
  },
  {
   "cell_type": "code",
   "execution_count": null,
   "metadata": {},
   "outputs": [],
   "source": [
    "for i in range(0,400,40):\n",
    "    plt.scatter(data[:,i], data[:,i+10])\n",
    "    plt.show()"
   ]
  },
  {
   "cell_type": "code",
   "execution_count": null,
   "metadata": {},
   "outputs": [],
   "source": [
    "# xy = UMAP(n_neighbors=500).fit_transform(data[:, 75:125:5])\n",
    "\n",
    "xy = UMAP(n_neighbors=100).fit_transform(data)"
   ]
  },
  {
   "cell_type": "code",
   "execution_count": null,
   "metadata": {},
   "outputs": [],
   "source": [
    "## validate UMAP\n",
    "plt.figure(figsize=[3, 3])\n",
    "plt.plot(xy[:, 0], xy[:, 1], linewidth=1)\n",
    "plt.scatter(xy[:, 0], xy[:, 1], s=10, c=np.arange(xy.shape[0]), zorder=20)\n",
    "plt.axis(\"equal\")\n",
    "plt.show()"
   ]
  },
  {
   "cell_type": "code",
   "execution_count": null,
   "metadata": {},
   "outputs": [],
   "source": [
    "# fig, ax = plt.subplots()\n",
    "# (line,) = ax.plot([], [], lw=1)\n",
    "# sca = ax.scatter([], [], s=4)\n",
    "\n",
    "# xlim = [xy[:, 0].min() - 1, xy[:, 0].max() + 1]\n",
    "# ylim = [xy[:, 1].min() - 1, xy[:, 1].max() + 1]\n",
    "# ax.set_xlim(*xlim)\n",
    "# ax.set_ylim(*ylim)\n",
    "# plt.close()\n",
    "\n",
    "\n",
    "# # Animation function\n",
    "# def animate(i):\n",
    "#     line.set_data(xy[:i, 0], xy[:i, 1])\n",
    "#     sca.set_offsets(xy[:i])\n",
    "#     return (line,)\n",
    "\n",
    "\n",
    "# # Create the animation\n",
    "# ani = FuncAnimation(fig, animate, frames=xy.shape[0], interval=20, blit=True)\n",
    "# ani"
   ]
  },
  {
   "cell_type": "code",
   "execution_count": null,
   "metadata": {},
   "outputs": [],
   "source": [
    "# # for dev testing:\n",
    "# from importlib import reload\n",
    "# import dimbridge\n",
    "\n",
    "# reload(dimbridge)\n",
    "# from dimbridge import Dimbridge\n",
    "\n",
    "\n",
    "# dimbridge = Dimbridge(\n",
    "#     data=df,\n",
    "#     x=xy[:, 0],\n",
    "#     y=xy[:, 1],\n",
    "#     c=np.arange(xy.shape[0], dtype=np.int32),\n",
    "#     dataset_name=\"\",\n",
    "#     s=4,  # projection plot mark size\n",
    "#     splom_s=2,\n",
    "#     predicate_mode=\"predicate regression\",  # \"data extent\", \"predicate regression\"\n",
    "#     brush_mode=\"curve\",  # 'single', \"contrastive\", \"curve\",\n",
    "# )\n",
    "# dimbridge"
   ]
  },
  {
   "cell_type": "code",
   "execution_count": null,
   "metadata": {},
   "outputs": [],
   "source": [
    "# from matplotlib import colormaps\n",
    "\n",
    "# cmap = colormaps.get_cmap(\"coolwarm\")\n",
    "\n",
    "# for i in [0, len(dimbridge.selected) - 1]:\n",
    "#     plt.plot(data[dimbridge.selected[i]].T, c=cmap(i * 20), linewidth=0.5)"
   ]
  },
  {
   "cell_type": "markdown",
   "metadata": {},
   "source": [
    "## Minimal example: Synthetic Data"
   ]
  },
  {
   "cell_type": "code",
   "execution_count": null,
   "metadata": {},
   "outputs": [],
   "source": [
    "# n = int(2e4)\n",
    "\n",
    "# ## data\n",
    "# R = 2\n",
    "# P = 3\n",
    "# eps = 0.5\n",
    "# u = np.random.rand(n) * np.pi * 2\n",
    "# v = np.random.rand(n) * np.pi * 2\n",
    "\n",
    "# x = R * (np.cos(u / 2) * np.cos(v) - np.sin(u / 2) * np.sin(2 * v))\n",
    "# y = R * (np.sin(u / 2) * np.cos(v) + np.cos(u / 2) * np.sin(2 * v))\n",
    "# z = P * np.cos(u) * (1 + eps * np.sin(v))\n",
    "# w = P * np.sin(u) * (1 + eps * np.sin(v))"
   ]
  },
  {
   "cell_type": "code",
   "execution_count": null,
   "metadata": {},
   "outputs": [],
   "source": [
    "# ## construct pandas dataframe and compute UMAP\n",
    "# df = pd.DataFrame(dict(x1=x, x2=y, x3=z, x4=w))\n",
    "# # xy = UMAP(n_neighbors=50, min_dist=0.3).fit_transform(df.to_numpy())\n",
    "# xy = np.c_[u, v]\n",
    "\n",
    "# ## validate UMAP\n",
    "# plt.figure(figsize=[3, 3])\n",
    "# plt.scatter(xy[:, 0], xy[:, 1], s=1)\n",
    "# plt.axis(\"equal\")\n",
    "# plt.show()"
   ]
  },
  {
   "cell_type": "code",
   "execution_count": null,
   "metadata": {},
   "outputs": [],
   "source": [
    "# # for dev testing:\n",
    "# from importlib import reload\n",
    "# import dimbridge\n",
    "\n",
    "# reload(dimbridge)\n",
    "# from dimbridge import Dimbridge\n",
    "\n",
    "\n",
    "# dimbridge = Dimbridge(\n",
    "#     data=df,\n",
    "#     x=xy[:, 0],\n",
    "#     y=xy[:, 1],\n",
    "#     dataset_name=\"\",\n",
    "#     s=4,  # projection plot mark size\n",
    "#     splom_s=1,\n",
    "#     predicate_mode=\"data extent\",  # \"data extent\", \"predicate regression\"\n",
    "#     brush_mode=\"curve\",  # 'single', \"contrastive\", \"curve\",\n",
    "# )\n",
    "# dimbridge"
   ]
  },
  {
   "cell_type": "code",
   "execution_count": null,
   "metadata": {},
   "outputs": [],
   "source": []
  },
  {
   "cell_type": "markdown",
   "metadata": {},
   "source": [
    "## Animal Data in the paper"
   ]
  },
  {
   "cell_type": "markdown",
   "metadata": {},
   "source": [
    "- Download the data and place it under /dataset\n",
    "- run python app.py"
   ]
  },
  {
   "cell_type": "code",
   "execution_count": null,
   "metadata": {},
   "outputs": [],
   "source": [
    "# # dataset_name = \"gait2\"\n",
    "# # df = pd.read_csv(f\"./datasets/{dataset_name}/{dataset_name}.csv\")\n",
    "# # df = df.drop(columns=[\"x\", \"y\"])\n",
    "# # for col in df.columns:\n",
    "# #     if df[col].dtype == \"int64\":\n",
    "# #         df[col] = df[col].astype(\"int32\")\n",
    "# # # xy = np.c_[df[\"leg1.joint1.angle\"].to_numpy(), df[\"leg1.joint2.angle\"].to_numpy()]\n",
    "# # numeric_columns = [col for col in df.columns if df[col].dtype != \"int32\"]\n",
    "# # xy = UMAP(n_neighbors=30, min_dist=0.2).fit_transform(df[numeric_columns].to_numpy())\n",
    "\n",
    "\n",
    "# dataset_name = \"animals5_remote\"\n",
    "# df = pd.read_csv(glob(f\"./datasets/{dataset_name}/*.csv\")[0])\n",
    "# image_urls = df[\"image_url\"].to_list()\n",
    "# xy = df[[\"x\", \"y\"]].to_numpy()\n",
    "# df = df.drop(columns=[\"x\", \"y\", \"image_filename\", \"image_url\"])\n",
    "# xy = UMAP(n_neighbors=50, min_dist=0.8).fit_transform(df.to_numpy())"
   ]
  },
  {
   "cell_type": "code",
   "execution_count": null,
   "metadata": {},
   "outputs": [],
   "source": [
    "# ## validate UMAP\n",
    "# plt.figure(figsize=[3, 3])\n",
    "# plt.scatter(xy[:, 0], xy[:, 1], s=1)\n",
    "# plt.axis(\"equal\")\n",
    "# plt.show()"
   ]
  },
  {
   "cell_type": "code",
   "execution_count": null,
   "metadata": {},
   "outputs": [],
   "source": [
    "# # for dev testing:\n",
    "# from importlib import reload\n",
    "# import dimbridge\n",
    "\n",
    "# reload(dimbridge)\n",
    "# from dimbridge import Dimbridge\n",
    "\n",
    "# dimbridge = Dimbridge(\n",
    "#     data=df,\n",
    "#     dataset_name=dataset_name,\n",
    "#     image_urls=image_urls,\n",
    "#     x=xy[:, 0],\n",
    "#     y=xy[:, 1],\n",
    "#     s=4,  # projection plot mark size\n",
    "#     splom_s=2,  # SPLOM plot mark size\n",
    "#     predicate_mode=\"predicate regression\",  # \"data extent\", \"predicate regression\"\n",
    "#     brush_mode=\"curve\",  # 'single', \"contrastive\", \"curve\",\n",
    "# )\n",
    "\n",
    "# dimbridge"
   ]
  },
  {
   "cell_type": "code",
   "execution_count": null,
   "metadata": {},
   "outputs": [],
   "source": []
  },
  {
   "cell_type": "code",
   "execution_count": null,
   "metadata": {},
   "outputs": [],
   "source": [
    "# todo export svg / pdf\n",
    "# todo how-to, readme\n",
    "#"
   ]
  }
 ],
 "metadata": {
  "kernelspec": {
   "display_name": "Python 3 (ipykernel)",
   "language": "python",
   "name": "python3"
  },
  "language_info": {
   "codemirror_mode": {
    "name": "ipython",
    "version": 3
   },
   "file_extension": ".py",
   "mimetype": "text/x-python",
   "name": "python",
   "nbconvert_exporter": "python",
   "pygments_lexer": "ipython3",
   "version": "3.12.2"
  }
 },
 "nbformat": 4,
 "nbformat_minor": 4
}
