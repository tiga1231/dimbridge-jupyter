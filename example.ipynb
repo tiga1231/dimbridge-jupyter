{
 "cells": [
  {
   "cell_type": "code",
   "execution_count": null,
   "metadata": {},
   "outputs": [],
   "source": [
    "# !pip install -e \".[dev]\""
   ]
  },
  {
   "cell_type": "code",
   "execution_count": null,
   "metadata": {},
   "outputs": [],
   "source": [
    "# %load_ext autoreload\n",
    "# %autoreload 2\n",
    "# %env ANYWIDGET_HMR=1\n",
    "\n",
    "import numpy as np\n",
    "import pandas as pd\n",
    "\n",
    "from dimbridge import Dimbridge"
   ]
  },
  {
   "cell_type": "code",
   "execution_count": null,
   "metadata": {},
   "outputs": [],
   "source": [
    "x = np.random.rand(20000)*5\n",
    "y = np.random.rand(20000)*2\n",
    "z = np.cos(x+y)\n",
    "w = x**2\n",
    "\n",
    "df = pd.DataFrame(dict(d10=x, d2=y, d3=z, d4=w))"
   ]
  },
  {
   "cell_type": "code",
   "execution_count": null,
   "metadata": {},
   "outputs": [],
   "source": [
    "from umap import UMAP\n",
    "xy = UMAP(n_neighbors=50).fit_transform(np.c_[x, y, z, w])\n",
    "\n"
   ]
  },
  {
   "cell_type": "code",
   "execution_count": null,
   "metadata": {},
   "outputs": [],
   "source": []
  },
  {
   "cell_type": "code",
   "execution_count": null,
   "metadata": {},
   "outputs": [],
   "source": [
    "# Testing\n",
    "from importlib import reload\n",
    "import dimbridge\n",
    "reload(dimbridge)\n",
    "from dimbridge import Dimbridge\n",
    "\n",
    "dimbridge = Dimbridge(\n",
    "    data=df,\n",
    "    x=xy[:,0],\n",
    "    y=xy[:,1],\n",
    "    # TODO\n",
    "    c=x,  ## color\n",
    "    s=np.zeros_like(x) + 10,  # mark size\n",
    ")\n",
    "dimbridge"
   ]
  },
  {
   "cell_type": "code",
   "execution_count": null,
   "metadata": {},
   "outputs": [],
   "source": [
    "dimbridge.selected"
   ]
  },
  {
   "cell_type": "code",
   "execution_count": null,
   "metadata": {},
   "outputs": [],
   "source": [
    "# todo export svg / pdf\n",
    "# todo how-to, readme\n",
    "# "
   ]
  }
 ],
 "metadata": {
  "kernelspec": {
   "display_name": "Python 3 (ipykernel)",
   "language": "python",
   "name": "python3"
  },
  "language_info": {
   "codemirror_mode": {
    "name": "ipython",
    "version": 3
   },
   "file_extension": ".py",
   "mimetype": "text/x-python",
   "name": "python",
   "nbconvert_exporter": "python",
   "pygments_lexer": "ipython3",
   "version": "3.12.2"
  }
 },
 "nbformat": 4,
 "nbformat_minor": 4
}
