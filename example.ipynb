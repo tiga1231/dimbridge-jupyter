{
 "cells": [
  {
   "cell_type": "markdown",
   "metadata": {},
   "source": [
    "# follow along:\n",
    "\n",
    "`git clone https://github.com/tiga1231/dimbridge-jupyter.git`"
   ]
  },
  {
   "cell_type": "code",
   "execution_count": null,
   "metadata": {},
   "outputs": [],
   "source": [
    "!pip install dimbridge\n",
    "\n",
    "!python -m venv .venv\n",
    "!source .venv/bin/activate"
   ]
  },
  {
   "cell_type": "code",
   "execution_count": null,
   "metadata": {},
   "outputs": [],
   "source": [
    "# This example needs additional packages:\n",
    "!pip install matplotlib umap-learn"
   ]
  },
  {
   "cell_type": "code",
   "execution_count": null,
   "metadata": {},
   "outputs": [],
   "source": [
    "# for development:\n",
    "# !pip install -e \".[dev]\""
   ]
  },
  {
   "cell_type": "code",
   "execution_count": null,
   "metadata": {},
   "outputs": [],
   "source": [
    "# %load_ext autoreload\n",
    "# %autoreload 2\n",
    "# %env ANYWIDGET_HMR=1\n",
    "from glob import glob\n",
    "\n",
    "import matplotlib.pyplot as plt\n",
    "from matplotlib.animation import FuncAnimation\n",
    "\n",
    "%matplotlib inline\n",
    "\n",
    "import numpy as np\n",
    "import pandas as pd\n",
    "from umap import UMAP\n",
    "\n",
    "from dimbridge import Dimbridge\n",
    "\n",
    "plt.style.use(\"ggplot\")\n",
    "plt.style.use(\"seaborn-v0_8-colorblind\")"
   ]
  },
  {
   "cell_type": "markdown",
   "metadata": {},
   "source": [
    "## Minimal example: Synthetic Data"
   ]
  },
  {
   "cell_type": "code",
   "execution_count": null,
   "metadata": {},
   "outputs": [],
   "source": [
    "# n = int(1e4)\n",
    "\n",
    "# ## data\n",
    "# R = 2\n",
    "# P = 3\n",
    "# eps = 0.5\n",
    "# u = np.random.rand(n) * np.pi * 2\n",
    "# v = np.random.rand(n) * np.pi * 2\n",
    "\n",
    "# x = R * (np.cos(u / 2) * np.cos(v) - np.sin(u / 2) * np.sin(2 * v))\n",
    "# y = R * (np.sin(u / 2) * np.cos(v) + np.cos(u / 2) * np.sin(2 * v))\n",
    "# z = P * np.cos(u) * (1 + eps * np.sin(v))\n",
    "# w = P * np.sin(u) * (1 + eps * np.sin(v))\n",
    "\n",
    "# ## construct pandas dataframe and compute UMAP\n",
    "# df = pd.DataFrame(dict(x1=x, x2=y, x3=z, x4=w))\n",
    "# # xy = UMAP(n_neighbors=50, min_dist=0.3).fit_transform(df.to_numpy())\n",
    "# xy = np.c_[u, v]\n",
    "\n",
    "# ## validate UMAP\n",
    "# plt.figure(figsize=[3, 3])\n",
    "# plt.scatter(xy[:, 0], xy[:, 1], s=1)\n",
    "# plt.axis(\"equal\")\n",
    "# plt.show()"
   ]
  },
  {
   "cell_type": "code",
   "execution_count": null,
   "metadata": {},
   "outputs": [],
   "source": [
    "# # for dev testing:\n",
    "# from importlib import reload\n",
    "# import dimbridge\n",
    "\n",
    "# reload(dimbridge)\n",
    "# from dimbridge import Dimbridge\n",
    "\n",
    "# dimbridge = Dimbridge(\n",
    "#     data=df,\n",
    "#     x=xy[:, 0],\n",
    "#     y=xy[:, 1],\n",
    "#     s=4,  # projection plot mark size\n",
    "#     splom_s=1,\n",
    "#     predicate_mode=\"data extent\",  # \"data extent\", \"predicate regression\"\n",
    "#     brush_mode=\"single\",  # 'single', \"contrastive\", \"curve\",\n",
    "# )\n",
    "# dimbridge"
   ]
  },
  {
   "cell_type": "markdown",
   "metadata": {},
   "source": [
    "## Animal Data in the paper"
   ]
  },
  {
   "cell_type": "markdown",
   "metadata": {},
   "source": [
    "- Download images of animals https://drive.google.com/drive/folders/1x1Ptvpoay4YsM6IrtuDr11iYtkrv8nzI unzip, and copy it to dataset/"
   ]
  },
  {
   "cell_type": "code",
   "execution_count": null,
   "metadata": {},
   "outputs": [],
   "source": [
    "# dataset_name = \"gait2\"\n",
    "# df = pd.read_csv(f\"./datasets/{dataset_name}/{dataset_name}.csv\")\n",
    "# df = df.drop(columns=[\"x\", \"y\"])\n",
    "# for col in df.columns:\n",
    "#     if df[col].dtype == \"int64\":\n",
    "#         df[col] = df[col].astype(\"int32\")\n",
    "# # xy = np.c_[df[\"leg1.joint1.angle\"].to_numpy(), df[\"leg1.joint2.angle\"].to_numpy()]\n",
    "# numeric_columns = [col for col in df.columns if df[col].dtype != \"int32\"]\n",
    "# xy = UMAP(n_neighbors=30, min_dist=0.2).fit_transform(df[numeric_columns].to_numpy())\n",
    "\n",
    "\n",
    "dataset_name = \"animals5_remote\"\n",
    "df = pd.read_csv(\"./datasets/animals5_remote/animals5.csv\")\n",
    "image_urls = df[\"image_url\"].to_list()\n",
    "xy = df[[\"x\", \"y\"]].to_numpy()\n",
    "df = df.drop(columns=[\"x\", \"y\", \"image_filename\", \"image_url\"])\n",
    "# xy = UMAP(n_neighbors=50, min_dist=0.8).fit_transform(df.to_numpy())\n",
    "\n",
    "df"
   ]
  },
  {
   "cell_type": "code",
   "execution_count": null,
   "metadata": {},
   "outputs": [],
   "source": [
    "## validate UMAP\n",
    "plt.figure(figsize=[3, 3])\n",
    "plt.scatter(xy[:, 0], xy[:, 1], s=1)\n",
    "plt.axis(\"equal\")\n",
    "plt.show()"
   ]
  },
  {
   "cell_type": "code",
   "execution_count": null,
   "metadata": {},
   "outputs": [],
   "source": [
    "# for dev testing:\n",
    "from importlib import reload\n",
    "import dimbridge\n",
    "\n",
    "reload(dimbridge)\n",
    "from dimbridge import Dimbridge\n",
    "\n",
    "dimbridge = Dimbridge(\n",
    "    data=df,\n",
    "    image_urls=image_urls,\n",
    "    x=xy[:, 0],\n",
    "    y=xy[:, 1],\n",
    "    s=4,  # projection plot mark size\n",
    "    splom_s=2,  # SPLOM plot mark size\n",
    "    predicate_mode=\"predicate regression\",  # \"data extent\", \"predicate regression\"\n",
    "    brush_mode=\"contrastive\",  # 'single', \"contrastive\", \"curve\",\n",
    ")\n",
    "\n",
    "dimbridge"
   ]
  },
  {
   "cell_type": "markdown",
   "metadata": {},
   "source": [
    "## Getting subset from UI"
   ]
  },
  {
   "cell_type": "code",
   "execution_count": null,
   "metadata": {},
   "outputs": [],
   "source": [
    "print(dimbridge.selected[0])"
   ]
  },
  {
   "cell_type": "code",
   "execution_count": null,
   "metadata": {},
   "outputs": [],
   "source": [
    "selected = np.array(dimbridge.selected[0])\n",
    "df[selected]"
   ]
  },
  {
   "cell_type": "code",
   "execution_count": null,
   "metadata": {},
   "outputs": [],
   "source": [
    "plt.scatter(xy[selected, 0], xy[selected, 1])\n",
    "plt.axis(\"equal\")"
   ]
  },
  {
   "cell_type": "markdown",
   "metadata": {},
   "source": [
    "# Subset UMAP"
   ]
  },
  {
   "cell_type": "code",
   "execution_count": null,
   "metadata": {},
   "outputs": [],
   "source": [
    "subset_xy = UMAP(n_neighbors=50).fit_transform(df[selected])\n",
    "plt.scatter(subset_xy[:, 0], subset_xy[:, 1])\n",
    "plt.axis(\"equal\")\n",
    "plt.show()"
   ]
  },
  {
   "cell_type": "code",
   "execution_count": null,
   "metadata": {},
   "outputs": [],
   "source": [
    "dimbridge2 = Dimbridge(\n",
    "    data=df[selected],\n",
    "    image_urls=np.array(image_urls)[selected].tolist(),\n",
    "    x=subset_xy[:, 0],\n",
    "    y=subset_xy[:, 1],\n",
    "    s=4,  # projection plot mark size\n",
    "    splom_s=2,  # SPLOM plot mark size\n",
    "    predicate_mode=\"predicate regression\",  # \"data extent\", \"predicate regression\"\n",
    "    brush_mode=\"curve\",  # 'single', \"contrastive\", \"curve\",\n",
    ")\n",
    "\n",
    "dimbridge2"
   ]
  },
  {
   "cell_type": "code",
   "execution_count": null,
   "metadata": {},
   "outputs": [],
   "source": [
    "plt.scatter(df[\"mouth open\"][~selected], df[\"eyes squinting\"][~selected], c=\"#aaa\")\n",
    "plt.scatter(df[\"mouth open\"][selected], df[\"eyes squinting\"][selected], c=\"C0\")\n",
    "plt.axis(\"equal\")"
   ]
  },
  {
   "cell_type": "markdown",
   "metadata": {},
   "source": [
    "# subset PCA"
   ]
  },
  {
   "cell_type": "code",
   "execution_count": null,
   "metadata": {},
   "outputs": [],
   "source": [
    "from sklearn.decomposition import PCA\n",
    "\n",
    "pca = PCA().fit(df[selected])\n",
    "pc = pca.transform(df)\n",
    "\n",
    "plt.scatter(pc[~selected, 0], pc[~selected, 1], s=10, c=\"#aaa\")\n",
    "plt.scatter(pc[selected, 0], pc[selected, 1], s=10)"
   ]
  },
  {
   "cell_type": "markdown",
   "metadata": {},
   "source": [
    "# LinearDiscriminantAnalysis"
   ]
  },
  {
   "cell_type": "code",
   "execution_count": null,
   "metadata": {},
   "outputs": [],
   "source": [
    "from sklearn.discriminant_analysis import LinearDiscriminantAnalysis\n",
    "\n",
    "lda = LinearDiscriminantAnalysis().fit(df, selected)\n",
    "lda_x = lda.transform(df)\n",
    "plt.scatter(lda_x[~selected], df[\"mouth open\"][~selected], s=10, c=\"#aaa\")\n",
    "plt.scatter(lda_x[selected], df[\"mouth open\"][selected], s=10)\n",
    "plt.show()"
   ]
  },
  {
   "cell_type": "code",
   "execution_count": null,
   "metadata": {},
   "outputs": [],
   "source": [
    "list(zip(df.columns, lda.coef_[0]))"
   ]
  },
  {
   "cell_type": "code",
   "execution_count": null,
   "metadata": {},
   "outputs": [],
   "source": [
    "# todo export svg / pdf\n",
    "# todo how-to, readme\n",
    "#"
   ]
  }
 ],
 "metadata": {
  "kernelspec": {
   "display_name": "Python 3 (ipykernel)",
   "language": "python",
   "name": "python3"
  },
  "language_info": {
   "codemirror_mode": {
    "name": "ipython",
    "version": 3
   },
   "file_extension": ".py",
   "mimetype": "text/x-python",
   "name": "python",
   "nbconvert_exporter": "python",
   "pygments_lexer": "ipython3",
   "version": "3.12.2"
  }
 },
 "nbformat": 4,
 "nbformat_minor": 4
}
