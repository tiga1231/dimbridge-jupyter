{
 "cells": [
  {
   "cell_type": "markdown",
   "metadata": {},
   "source": [
    "# Installation"
   ]
  },
  {
   "cell_type": "markdown",
   "metadata": {
    "jp-MarkdownHeadingCollapsed": true
   },
   "source": [
    "## 1. Setting up Virtual Environment\n",
    "\n",
    "Note: while other virtual environment setup (e.g., conda) and IDE integrations (VS Code) are possibly working, we didn't test it extensively.\n",
    "\n",
    "We tested dimbridge in a virtual environment. \n",
    "For example, in a command line console, create an virtual environment `.venv`  under the current working directory\n",
    "```\n",
    "python -m venv .venv\n",
    "```\n",
    "and activate this environment\n",
    "```\n",
    "source .venv/bin/activate\n",
    "```\n",
    "Then install jupyter lab under this environment\n",
    "```\n",
    "pip install jupyterlab\n",
    "```\n",
    "\n",
    "## 2. Installing DimBridge\n",
    "\n",
    "### Option 1: Install DimBridge from PyPI\n",
    "```\n",
    "pip install dimbridge\n",
    "```\n",
    "\n",
    "### Option 2: Install from source\n",
    "\n",
    "Alternatively, clone `dimbridge-jupyter` repository\n",
    "```\n",
    "git clone https://github.com/tiga1231/dimbridge-jupyter.git\n",
    "```\n",
    "\n",
    "and dynamically link dimbridge source code in this git repo:\n",
    "```\n",
    "pip install -e \".[dev]\"\n",
    "```\n",
    "\n",
    "## 3. Installing Plotting library and UMAP for dimensionality reduction plots\n",
    "This example notebook also needs additional packages for ploting and computing dimensionality reduction plot (UMAP):\n",
    "```\n",
    "pip install matplotlib umap-learn\n",
    "```"
   ]
  },
  {
   "cell_type": "markdown",
   "metadata": {
    "jp-MarkdownHeadingCollapsed": true
   },
   "source": [
    "# Imports"
   ]
  },
  {
   "cell_type": "code",
   "execution_count": null,
   "metadata": {},
   "outputs": [],
   "source": [
    "# %load_ext autoreload\n",
    "# %autoreload 2\n",
    "# %env ANYWIDGET_HMR=1\n",
    "# from glob import glob\n",
    "\n",
    "import matplotlib.pyplot as plt\n",
    "import numpy as np\n",
    "import pandas as pd\n",
    "from matplotlib.animation import FuncAnimation\n",
    "from umap import UMAP\n",
    "\n",
    "from dimbridge import Dimbridge\n",
    "\n",
    "# %matplotlib inline\n",
    "plt.style.use(\"ggplot\")\n",
    "plt.style.use(\"seaborn-v0_8-colorblind\")"
   ]
  },
  {
   "cell_type": "markdown",
   "metadata": {},
   "source": [
    "# Example 1: Synthetic Data, 4D parametrization of a Klein bottle \n",
    "https://en.wikipedia.org/wiki/Klein_bottle#4-D_non-intersecting"
   ]
  },
  {
   "cell_type": "markdown",
   "metadata": {
    "jp-MarkdownHeadingCollapsed": true
   },
   "source": [
    "## Generate a Klein bottle dataset"
   ]
  },
  {
   "cell_type": "code",
   "execution_count": null,
   "metadata": {},
   "outputs": [],
   "source": [
    "n = int(1e4)\n",
    "\n",
    "## data\n",
    "R = 2\n",
    "P = 3\n",
    "eps = 0.5\n",
    "u = np.random.rand(n) * np.pi * 2\n",
    "v = np.random.rand(n) * np.pi * 2\n",
    "\n",
    "x = R * (np.cos(u / 2) * np.cos(v) - np.sin(u / 2) * np.sin(2 * v))\n",
    "y = R * (np.sin(u / 2) * np.cos(v) + np.cos(u / 2) * np.sin(2 * v))\n",
    "z = P * np.cos(u) * (1 + eps * np.sin(v))\n",
    "w = P * np.sin(u) * (1 + eps * np.sin(v))\n",
    "\n",
    "## construct pandas dataframe and compute UMAP\n",
    "df = pd.DataFrame(dict(x1=x, x2=y, x3=z, x4=w))\n",
    "# xy = UMAP(n_neighbors=50, min_dist=0.3).fit_transform(df.to_numpy())\n",
    "\n",
    "# Here we will use the 2D parametrization of the bottle as our \"dimensionality reduction\" plot\n",
    "xy = np.c_[u, v]\n",
    "\n",
    "## validate UMAP\n",
    "plt.figure(figsize=[12, 6], dpi=80)\n",
    "plt.subplot(121)\n",
    "plt.scatter(xy[:, 0], xy[:, 1], s=1)\n",
    "plt.axis(\"equal\")\n",
    "plt.xlabel(\"u\")\n",
    "plt.ylabel(\"v\")\n",
    "plt.title(\"2D Parameter space\")\n",
    "\n",
    "## validate data\n",
    "plt.subplot(122)\n",
    "plt.scatter(df[\"x1\"], df[\"x2\"], s=1)\n",
    "plt.axis(\"equal\")\n",
    "plt.xlabel(\"x1\")\n",
    "plt.ylabel(\"x2\")\n",
    "plt.title(\"First 2 coordinates of the 4D embedding space\")\n",
    "plt.show()\n",
    "\n",
    "print(\"Data table\")\n",
    "df"
   ]
  },
  {
   "cell_type": "markdown",
   "metadata": {
    "jp-MarkdownHeadingCollapsed": true
   },
   "source": [
    "## Using DimBridge on Klein bottle dataset"
   ]
  },
  {
   "cell_type": "code",
   "execution_count": null,
   "metadata": {},
   "outputs": [],
   "source": [
    "# for dev testing:\n",
    "# from importlib import reload\n",
    "# import dimbridge\n",
    "# reload(dimbridge)\n",
    "\n",
    "from dimbridge import Dimbridge\n",
    "\n",
    "dimbridge = Dimbridge(\n",
    "    data=df,  ## data table as a pandas DataFrame\n",
    "    x=xy[:, 0],  ## x coordinate of DR plot\n",
    "    y=xy[:, 1],  ## y coordinate of DR plot\n",
    "    s=4,  # projection plot mark size\n",
    "    splom_s=1,  # scatterplot matrix (SPLOM) mark size\n",
    "    # \"data extent\" - displays min and max of selection in the predicate view,\n",
    "    # \"predicate regression\" - uses ML method to balance false positives and false negatives\n",
    "    predicate_mode=\"predicate regression\",\n",
    "    # Mode of the brush interaction on projection view, either 'single', \"contrastive\", or \"curve\"\n",
    "    brush_mode=\"contrastive\",\n",
    ")\n",
    "dimbridge"
   ]
  },
  {
   "cell_type": "markdown",
   "metadata": {},
   "source": [
    "## Showing brush selected points"
   ]
  },
  {
   "cell_type": "markdown",
   "metadata": {},
   "source": [
    "Now data selected from the DimBridge UI can be exported for downsteam analysis\n",
    "\n",
    "Assuming `dimbridge` being the UI widget, `dimbridge.selected` will store a 2D array of `[n_boxes, n_points_in_dataset]` boolean values indicating which points are selected by the brush\n",
    "\n",
    "- For single box selection, n_boxes = 1,\n",
    "- For contrastive selection, n_boxes = 2,\n",
    "- For curve brush, n_boxes = 12,"
   ]
  },
  {
   "cell_type": "code",
   "execution_count": null,
   "metadata": {},
   "outputs": [],
   "source": [
    "## Showing the selected points in the first box\n",
    "\n",
    "print(\"dimbridge.selected shape\", np.array(dimbridge.selected).shape)\n",
    "\n",
    "selected = np.array(dimbridge.selected[0])\n",
    "df[selected]"
   ]
  },
  {
   "cell_type": "markdown",
   "metadata": {},
   "source": [
    "# Example 2: AI-generated animal images used in the paper (https://arxiv.org/abs/2404.07386)"
   ]
  },
  {
   "cell_type": "markdown",
   "metadata": {},
   "source": [
    "- Download images of animals to the current directory from\n",
    "    - https://drive.google.com/drive/folders/1x1Ptvpoay4YsM6IrtuDr11iYtkrv8nzI\n",
    "- `unzip animals5_remote.zip`\n",
    "- unzip it to a new directory, `static/` under the root of this repo so that the file structure looks like:\n",
    "```\n",
    "example.ipynb (this notebook)\n",
    "static/\n",
    "└── animals5_remote/\n",
    "    ├── animals5.csv\n",
    "    └── images/\n",
    "        ├── animal-0.jpg\n",
    "        ├── animal-1.jpg\n",
    "```\n",
    "- Start an HTTP server to serve the images\n",
    "`python -m http.server 9001`\n",
    "    - DimBridge still works if images were not correctly served, the bottom of the UI will display a set of not-found images\n",
    "- Run the following cells"
   ]
  },
  {
   "cell_type": "code",
   "execution_count": null,
   "metadata": {},
   "outputs": [],
   "source": [
    "# dataset_name = \"gait2\"\n",
    "# df = pd.read_csv(f\"./datasets/{dataset_name}/{dataset_name}.csv\")\n",
    "# df = df.drop(columns=[\"x\", \"y\"])\n",
    "# for col in df.columns:\n",
    "#     if df[col].dtype == \"int64\":\n",
    "#         df[col] = df[col].astype(\"int32\")\n",
    "# # xy = np.c_[df[\"leg1.joint1.angle\"].to_numpy(), df[\"leg1.joint2.angle\"].to_numpy()]\n",
    "# numeric_columns = [col for col in df.columns if df[col].dtype != \"int32\"]\n",
    "# xy = UMAP(n_neighbors=30, min_dist=0.2).fit_transform(df[numeric_columns].to_numpy())\n",
    "\n",
    "\n",
    "# dataset_name = \"animals5_remote\"\n",
    "df2 = pd.read_csv(\"./static/animals5_remote/animals5.csv\")\n",
    "image_urls = df2[\"image_url\"].to_list()\n",
    "\n",
    "# either use the embedding stored in the dataset\n",
    "xy2 = df2[[\"x\", \"y\"]].to_numpy()\n",
    "df2 = df2.drop(columns=[\"x\", \"y\", \"image_filename\", \"image_url\"])\n",
    "# or compute UMAP here:\n",
    "# xy = UMAP(n_neighbors=50, min_dist=0.8).fit_transform(df.to_numpy())\n",
    "\n",
    "df2.columns"
   ]
  },
  {
   "cell_type": "code",
   "execution_count": null,
   "metadata": {},
   "outputs": [],
   "source": [
    "## check the UMAP\n",
    "plt.figure(figsize=[3, 3])\n",
    "plt.scatter(xy2[:, 0], xy2[:, 1], s=1)\n",
    "plt.axis(\"equal\")\n",
    "plt.show()"
   ]
  },
  {
   "cell_type": "code",
   "execution_count": null,
   "metadata": {},
   "outputs": [],
   "source": [
    "# for dev testing:\n",
    "# from importlib import reload\n",
    "\n",
    "# import dimbridge\n",
    "\n",
    "# reload(dimbridge)\n",
    "# from dimbridge import Dimbridge\n",
    "\n",
    "dimbridge2 = Dimbridge(\n",
    "    data=df2,\n",
    "    image_urls=image_urls,\n",
    "    x=xy2[:, 0],\n",
    "    y=xy2[:, 1],\n",
    "    s=4,  # projection plot mark size\n",
    "    splom_s=2,  # SPLOM plot mark size\n",
    "    predicate_mode=\"predicate regression\",  # \"data extent\", \"predicate regression\"\n",
    "    brush_mode=\"curve\",  # 'single', \"contrastive\", \"curve\",\n",
    ")\n",
    "\n",
    "dimbridge2"
   ]
  },
  {
   "cell_type": "markdown",
   "metadata": {},
   "source": [
    "## Getting selected data points from UI\n",
    "Now data selected from the DimBridge UI can be exported for downsteam analysis\n",
    "\n",
    "`dimbridge.selected` will store a 2D array of `[n_boxes, n_points]` boolean values\n",
    "\n",
    "For single box selection, n_boxes = 1,\n",
    "For contrastive selection, n_boxes = 2,\n",
    "For curve brush, n_boxes = 12,\n"
   ]
  },
  {
   "cell_type": "code",
   "execution_count": null,
   "metadata": {},
   "outputs": [],
   "source": [
    "selected = np.array(dimbridge2.selected[0])\n",
    "df2[selected]"
   ]
  },
  {
   "cell_type": "code",
   "execution_count": null,
   "metadata": {},
   "outputs": [],
   "source": [
    "## Plotting 2 given attributes of the selected points\n",
    "plt.scatter(df2[\"furry\"][selected], df2[\"excited\"][selected])\n",
    "plt.xlabel('furry')\n",
    "plt.ylabel('excited')\n",
    "plt.axis(\"equal\")\n",
    "plt.show()"
   ]
  },
  {
   "cell_type": "code",
   "execution_count": null,
   "metadata": {},
   "outputs": [],
   "source": []
  }
 ],
 "metadata": {
  "kernelspec": {
   "display_name": "Python 3 (ipykernel)",
   "language": "python",
   "name": "python3"
  },
  "language_info": {
   "codemirror_mode": {
    "name": "ipython",
    "version": 3
   },
   "file_extension": ".py",
   "mimetype": "text/x-python",
   "name": "python",
   "nbconvert_exporter": "python",
   "pygments_lexer": "ipython3",
   "version": "3.12.2"
  }
 },
 "nbformat": 4,
 "nbformat_minor": 4
}
