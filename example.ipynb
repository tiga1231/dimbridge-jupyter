{
 "cells": [
  {
   "cell_type": "code",
   "execution_count": null,
   "metadata": {},
   "outputs": [],
   "source": [
    "# This example needs additional packages:\n",
    "# !pip install matplotlib umap-learn\n",
    "\n",
    "# for development:\n",
    "# !pip install -e \".[dev]\""
   ]
  },
  {
   "cell_type": "code",
   "execution_count": null,
   "metadata": {},
   "outputs": [],
   "source": [
    "# %load_ext autoreload\n",
    "# %autoreload 2\n",
    "# %env ANYWIDGET_HMR=1\n",
    "from glob import glob\n",
    "\n",
    "import matplotlib.pyplot as plt\n",
    "import numpy as np\n",
    "import pandas as pd\n",
    "from umap import UMAP\n",
    "\n",
    "from dimbridge import Dimbridge\n",
    "\n",
    "plt.style.use(\"ggplot\")\n",
    "plt.style.use(\"seaborn-v0_8-colorblind\")"
   ]
  },
  {
   "cell_type": "code",
   "execution_count": null,
   "metadata": {},
   "outputs": [],
   "source": []
  },
  {
   "cell_type": "markdown",
   "metadata": {},
   "source": [
    "## Minimal example: Synthetic Data"
   ]
  },
  {
   "cell_type": "code",
   "execution_count": null,
   "metadata": {},
   "outputs": [],
   "source": [
    "# n = int(2e4)\n",
    "\n",
    "# ## data\n",
    "# R = 2\n",
    "# P = 3\n",
    "# eps = 0.5\n",
    "# u = np.random.rand(n) * np.pi * 2\n",
    "# v = np.random.rand(n) * np.pi * 2\n",
    "\n",
    "# x = R * (np.cos(u / 2) * np.cos(v) - np.sin(u / 2) * np.sin(2 * v))\n",
    "# y = R * (np.sin(u / 2) * np.cos(v) + np.cos(u / 2) * np.sin(2 * v))\n",
    "# z = P * np.cos(u) * (1 + eps * np.sin(v))\n",
    "# w = P * np.sin(u) * (1 + eps * np.sin(v))"
   ]
  },
  {
   "cell_type": "code",
   "execution_count": null,
   "metadata": {},
   "outputs": [],
   "source": [
    "# ## construct pandas dataframe and compute UMAP\n",
    "# df = pd.DataFrame(dict(x1=x, x2=y, x3=z, x4=w))\n",
    "# # xy = UMAP(n_neighbors=50, min_dist=0.3).fit_transform(df.to_numpy())\n",
    "# xy = np.c_[u, v]\n",
    "\n",
    "# ## validate UMAP\n",
    "# plt.figure(figsize=[3, 3])\n",
    "# plt.scatter(xy[:, 0], xy[:, 1], s=1)\n",
    "# plt.axis(\"equal\")\n",
    "# plt.show()"
   ]
  },
  {
   "cell_type": "code",
   "execution_count": null,
   "metadata": {},
   "outputs": [],
   "source": [
    "# # for dev testing:\n",
    "# from importlib import reload\n",
    "# import dimbridge\n",
    "\n",
    "# reload(dimbridge)\n",
    "# from dimbridge import Dimbridge\n",
    "\n",
    "\n",
    "# dimbridge = Dimbridge(\n",
    "#     data=df,\n",
    "#     x=xy[:, 0],\n",
    "#     y=xy[:, 1],\n",
    "#     dataset_name=\"\",\n",
    "#     s=4,  # projection plot mark size\n",
    "#     splom_s=1,\n",
    "#     predicate_mode=\"data extent\",  # \"data extent\", \"predicate regression\"\n",
    "#     brush_mode=\"curve\",  # 'single', \"contrastive\", \"curve\",\n",
    "# )\n",
    "# dimbridge"
   ]
  },
  {
   "cell_type": "code",
   "execution_count": null,
   "metadata": {},
   "outputs": [],
   "source": []
  },
  {
   "cell_type": "markdown",
   "metadata": {},
   "source": [
    "## Animal Data in the paper"
   ]
  },
  {
   "cell_type": "markdown",
   "metadata": {},
   "source": [
    "- Download the data and place it under /dataset\n",
    "- run python app.py"
   ]
  },
  {
   "cell_type": "code",
   "execution_count": null,
   "metadata": {},
   "outputs": [],
   "source": [
    "# dataset_name = \"gait2\"\n",
    "# df = pd.read_csv(f\"./datasets/{dataset_name}/{dataset_name}.csv\")\n",
    "# df = df.drop(columns=[\"x\", \"y\"])\n",
    "# for col in df.columns:\n",
    "#     if df[col].dtype == \"int64\":\n",
    "#         df[col] = df[col].astype(\"int32\")\n",
    "# # xy = np.c_[df[\"leg1.joint1.angle\"].to_numpy(), df[\"leg1.joint2.angle\"].to_numpy()]\n",
    "# numeric_columns = [col for col in df.columns if df[col].dtype != \"int32\"]\n",
    "# xy = UMAP(n_neighbors=30, min_dist=0.2).fit_transform(df[numeric_columns].to_numpy())\n",
    "\n",
    "\n",
    "dataset_name = \"animals5_remote\"\n",
    "df = pd.read_csv(glob(f\"./datasets/{dataset_name}/*.csv\")[0])\n",
    "image_urls = df[\"image_url\"].to_list()\n",
    "xy = df[[\"x\", \"y\"]].to_numpy()\n",
    "df = df.drop(columns=[\"x\", \"y\", \"image_filename\", \"image_url\"])\n",
    "xy = UMAP(n_neighbors=50, min_dist=0.8).fit_transform(df.to_numpy())"
   ]
  },
  {
   "cell_type": "code",
   "execution_count": null,
   "metadata": {},
   "outputs": [],
   "source": [
    "## validate UMAP\n",
    "plt.figure(figsize=[3, 3])\n",
    "plt.scatter(xy[:, 0], xy[:, 1], s=3)\n",
    "plt.axis(\"equal\")\n",
    "plt.show()"
   ]
  },
  {
   "cell_type": "code",
   "execution_count": null,
   "metadata": {},
   "outputs": [],
   "source": [
    "# for dev testing:\n",
    "from importlib import reload\n",
    "import dimbridge\n",
    "\n",
    "reload(dimbridge)\n",
    "from dimbridge import Dimbridge\n",
    "\n",
    "dimbridge = Dimbridge(\n",
    "    data=df,\n",
    "    dataset_name=dataset_name,\n",
    "    predicate_host=\"http://localhost:9001\",\n",
    "    image_urls=image_urls,\n",
    "    x=xy[:, 0],\n",
    "    y=xy[:, 1],\n",
    "    # initial color\n",
    "    # c=np.zeros(xy.shape[0]).astype(np.int32),\n",
    "    # cmap=\"set10\",\n",
    "    s=4,  # projection plot mark size\n",
    "    splom_s=2,  # SPLOM plot mark size\n",
    "    predicate_mode=\"predicate regression\",  # \"data extent\", \"predicate regression\"\n",
    "    splom_attributes=df.columns[:5].tolist(),\n",
    "    brush_mode=\"curve\",  # 'single', \"contrastive\", \"curve\",\n",
    ")\n",
    "\n",
    "dimbridge"
   ]
  },
  {
   "cell_type": "code",
   "execution_count": null,
   "metadata": {},
   "outputs": [],
   "source": []
  },
  {
   "cell_type": "code",
   "execution_count": null,
   "metadata": {},
   "outputs": [],
   "source": [
    "# todo export svg / pdf\n",
    "# todo how-to, readme\n",
    "#"
   ]
  }
 ],
 "metadata": {
  "kernelspec": {
   "display_name": "Python 3 (ipykernel)",
   "language": "python",
   "name": "python3"
  },
  "language_info": {
   "codemirror_mode": {
    "name": "ipython",
    "version": 3
   },
   "file_extension": ".py",
   "mimetype": "text/x-python",
   "name": "python",
   "nbconvert_exporter": "python",
   "pygments_lexer": "ipython3",
   "version": "3.12.2"
  }
 },
 "nbformat": 4,
 "nbformat_minor": 4
}
