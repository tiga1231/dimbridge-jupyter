{
 "cells": [
  {
   "cell_type": "code",
   "execution_count": null,
   "metadata": {},
   "outputs": [],
   "source": [
    "# !pip install -e \".[dev]\""
   ]
  },
  {
   "cell_type": "code",
   "execution_count": null,
   "metadata": {},
   "outputs": [],
   "source": [
    "# %load_ext autoreload\n",
    "# %autoreload 2\n",
    "# %env ANYWIDGET_HMR=1\n",
    "import matplotlib.pyplot as plt\n",
    "import numpy as np\n",
    "import pandas as pd\n",
    "\n",
    "from dimbridge import Dimbridge\n",
    "\n",
    "plt.style.use(\"ggplot\")\n",
    "plt.style.use(\"seaborn-v0_8-colorblind\")"
   ]
  },
  {
   "cell_type": "code",
   "execution_count": null,
   "metadata": {},
   "outputs": [],
   "source": [
    "x = np.random.rand(5000) * 5\n",
    "y = np.random.rand(5000) * 2\n",
    "z = np.cos(x + y)\n",
    "w = x**2\n",
    "\n",
    "df = pd.DataFrame(dict(d1=x, d2=y, d3=z, d4=w))"
   ]
  },
  {
   "cell_type": "code",
   "execution_count": null,
   "metadata": {},
   "outputs": [],
   "source": [
    "# from umap import UMAP\n",
    "# xy = UMAP(n_neighbors=50).fit_transform(np.c_[x, y, z, w])\n",
    "xy = np.c_[x, y]"
   ]
  },
  {
   "cell_type": "code",
   "execution_count": null,
   "metadata": {},
   "outputs": [],
   "source": [
    "# Testing\n",
    "from importlib import reload\n",
    "\n",
    "import dimbridge\n",
    "\n",
    "reload(dimbridge)\n",
    "from dimbridge import Dimbridge\n",
    "\n",
    "dimbridge = Dimbridge(\n",
    "    data=df,\n",
    "    x=xy[:, 0],\n",
    "    y=xy[:, 1],\n",
    "    # c=np.repeat([[255,0,0]], xy.shape[0], 0).astype(np.int32),\n",
    "    # s=np.zeros_like(x) + 10,  # mark size\n",
    "    predicate_mode=\"data extent\",\n",
    "    brush_mode=\"curve\", #\"single\", \"contrastive\" or \"curve\"\n",
    "    # predicate_mode='predicate regression',\n",
    ")\n",
    "dimbridge"
   ]
  },
  {
   "cell_type": "code",
   "execution_count": null,
   "metadata": {},
   "outputs": [],
   "source": [
    "print(dimbridge.selected)"
   ]
  },
  {
   "cell_type": "code",
   "execution_count": null,
   "metadata": {},
   "outputs": [],
   "source": []
  },
  {
   "cell_type": "code",
   "execution_count": null,
   "metadata": {},
   "outputs": [],
   "source": [
    "plt.scatter(df[\"d2\"][dimbridge.selected], df[\"d3\"][dimbridge.selected], s=10)"
   ]
  },
  {
   "cell_type": "code",
   "execution_count": null,
   "metadata": {},
   "outputs": [],
   "source": [
    "# todo export svg / pdf\n",
    "# todo how-to, readme\n",
    "# video on website"
   ]
  }
 ],
 "metadata": {
  "kernelspec": {
   "display_name": "Python 3 (ipykernel)",
   "language": "python",
   "name": "python3"
  },
  "language_info": {
   "codemirror_mode": {
    "name": "ipython",
    "version": 3
   },
   "file_extension": ".py",
   "mimetype": "text/x-python",
   "name": "python",
   "nbconvert_exporter": "python",
   "pygments_lexer": "ipython3",
   "version": "3.12.2"
  }
 },
 "nbformat": 4,
 "nbformat_minor": 4
}
