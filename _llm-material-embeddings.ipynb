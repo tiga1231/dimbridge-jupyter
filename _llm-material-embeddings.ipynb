{
 "cells": [
  {
   "cell_type": "code",
   "execution_count": null,
   "id": "7a2a5d08-9372-4526-b358-e15edda868ee",
   "metadata": {},
   "outputs": [],
   "source": [
    "# %load_ext autoreload\n",
    "# %autoreload 2\n",
    "# %env ANYWIDGET_HMR=1\n",
    "# from glob import glob\n",
    "\n",
    "import matplotlib.pyplot as plt\n",
    "import numpy as np\n",
    "import pandas as pd\n",
    "from matplotlib.animation import FuncAnimation\n",
    "from umap import UMAP\n",
    "\n",
    "from dimbridge import Dimbridge\n",
    "\n",
    "# import seaborn as sns\n",
    "# from mat_rec import mat_recommender\n",
    "\n",
    "plt.style.use(\"seaborn-v0_8-colorblind\")\n",
    "plt.style.use(\"ggplot\")\n",
    "# %matplotlib inline"
   ]
  },
  {
   "cell_type": "code",
   "execution_count": null,
   "id": "9a542cfc-4cb2-450c-b94e-dc7d1f8af7ea",
   "metadata": {},
   "outputs": [],
   "source": [
    "composition_embedding_dir = (\n",
    "    \"datasets/Material_Recommender/composition_embeddings_116k.h5\"\n",
    ")\n",
    "composition_embedding_data = pd.read_hdf(composition_embedding_dir)\n",
    "composition_embeddings = np.concatenate(composition_embedding_data[\"embeddings\"])\n",
    "composition_names = np.array(composition_embedding_data[\"composition_name\"])\n",
    "print(\"composotion embeddings loaded successfully\")\n",
    "print(composition_embeddings.shape)\n",
    "\n",
    "structure_embedding_dir = \"datasets/Material_Recommender/structure_embeddings_116k.h5\"\n",
    "structure_embedding_data = pd.read_hdf(structure_embedding_dir)\n",
    "structure_embeddings = np.concatenate(structure_embedding_data[\"embeddings\"])\n",
    "structure_names = np.array(structure_embedding_data[\"composition_name\"])\n",
    "print(\"structure embeddings loaded successfully\")\n",
    "print(structure_embeddings.shape, structure_names)"
   ]
  },
  {
   "cell_type": "code",
   "execution_count": null,
   "id": "0be1618b-0eb2-40bd-b52c-8f5452a999ce",
   "metadata": {},
   "outputs": [],
   "source": [
    "xy_composition = np.load(\"datasets/Material_Recommender/xy_composition.npy\")\n",
    "xy_structure = np.load(\"datasets/Material_Recommender/xy_structure.npy\")"
   ]
  },
  {
   "cell_type": "code",
   "execution_count": null,
   "id": "d1afcfe8-7b37-4e96-bf95-148f239ab464",
   "metadata": {},
   "outputs": [],
   "source": [
    "df = pd.DataFrame(structure_embeddings)"
   ]
  },
  {
   "cell_type": "code",
   "execution_count": null,
   "id": "188e9c96-8e7d-4ce1-be6e-7a1c7eabe154",
   "metadata": {},
   "outputs": [],
   "source": [
    "sample_size = 10000\n",
    "random = np.random.choice(np.arange(len(df)), size=sample_size, replace=False)\n",
    "\n",
    "df2 = df.iloc[random, :20]\n",
    "xy_composition2 = xy_composition[random]\n",
    "xy_structure2 = xy_structure[random]"
   ]
  },
  {
   "cell_type": "code",
   "execution_count": null,
   "id": "14ad6f3a-e34a-4887-90ce-11f7721eec98",
   "metadata": {},
   "outputs": [],
   "source": [
    "# for dev testing:\n",
    "from importlib import reload\n",
    "\n",
    "import dimbridge\n",
    "\n",
    "reload(dimbridge)\n",
    "\n",
    "from dimbridge import Dimbridge\n",
    "\n",
    "dimbridge = Dimbridge(\n",
    "    data=df2,\n",
    "    x=xy_structure2[:, 0],\n",
    "    y=xy_structure2[:, 1],\n",
    "    s=4,  # projection plot mark size\n",
    "    splom_s=2,\n",
    "    # predicate_mode=\"predicate regression\",  # \"data extent\" or\"predicate regression\"\n",
    "    predicate_mode=\"data extent\",  # \"data extent\" or \"predicate regression\"\n",
    "    brush_mode=\"single\",  # 'single', \"contrastive\", or \"curve\",\n",
    ")\n",
    "dimbridge"
   ]
  },
  {
   "cell_type": "code",
   "execution_count": null,
   "id": "7a4e590c-940f-4f8f-8908-b9c308a43fb3",
   "metadata": {},
   "outputs": [],
   "source": []
  },
  {
   "cell_type": "code",
   "execution_count": null,
   "id": "2450ac0c-9b76-4158-8f60-f7a7726916dd",
   "metadata": {},
   "outputs": [],
   "source": []
  }
 ],
 "metadata": {
  "kernelspec": {
   "display_name": "Python 3 (ipykernel)",
   "language": "python",
   "name": "python3"
  },
  "language_info": {
   "codemirror_mode": {
    "name": "ipython",
    "version": 3
   },
   "file_extension": ".py",
   "mimetype": "text/x-python",
   "name": "python",
   "nbconvert_exporter": "python",
   "pygments_lexer": "ipython3",
   "version": "3.12.2"
  }
 },
 "nbformat": 4,
 "nbformat_minor": 5
}
